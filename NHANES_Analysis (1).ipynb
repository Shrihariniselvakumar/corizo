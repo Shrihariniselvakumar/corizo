{
 "cells": [
  {
   "cell_type": "markdown",
   "id": "ae9c7f86-0ed4-4494-b9a5-517520cd2cf3",
   "metadata": {},
   "source": [
    "# **Capstone Project 1: Working with Numpy Matrices (Multidimensional Data)**\n",
    "\n",
    "## **Introduction**\n",
    "\n",
    "This project focuses on analyzing body measurements data from the National Health and Nutrition Examination Survey (NHANES). The datasets consist of body measurements for adult males and females, including variables such as weight, height, arm length, leg length, and circumferences of different body parts.\n",
    "\n",
    "### **Goals:**\n",
    "1. Load and preprocess the data using Numpy matrices.\n",
    "2. Perform data visualization (histograms, boxplots, scatterplots) to compare male and female participants.\n",
    "3. Compute statistical aggregates and analyze the distributions of key variables.\n",
    "4. Derive additional metrics such as Body Mass Index (BMI) and body ratios (e.g., waist-to-height ratio).\n",
    "5. Standardize the data and explore correlations between body measurements.\n",
    "6. Discuss the advantages and disadvantages of various body metrics.\n",
    "\n",
    "This report is structured to include code cells with explanations and results, as well as rich visualizations and statistical insights.\n"
   ]
  },
  {
   "cell_type": "markdown",
   "id": "a4795ee4-33c9-4a32-a0ed-0fd7b872938e",
   "metadata": {},
   "source": [
    "1. Introduction"
   ]
  },
  {
   "cell_type": "markdown",
   "id": "addedc7c-f88b-489d-b3e2-12490c2487df",
   "metadata": {},
   "source": [
    "# 1. Introduction\n",
    "\n",
    "This project analyzes body measurements of adult males and females using data from the National Health and Nutrition Examination Survey (NHANES). \n",
    "The objective is to explore, visualize, and compare different body metrics across genders and derive meaningful insights.\n",
    "\n",
    "The dataset contains measurements such as weight, height, arm length, leg length, and circumferences (arm, hip, and waist). Key objectives include:\n",
    "- Understanding distributions of body metrics through visualizations.\n",
    "- Comparing male and female weights.\n",
    "- Exploring relationships between various metrics using correlation and scatterplots.\n",
    "- Adding new computed columns (e.g., BMI, waist-to-height ratio).\n",
    "- Discussing the advantages and limitations of body metrics like BMI.\n",
    "\n",
    "This report is structured as follows:\n",
    "1. Data Loading\n",
    "2. Data Visualization\n",
    "3. Statistical Analysis\n",
    "4. Derived Metrics and Advanced Visualizations\n",
    "5. Discussion and Interpretation of Results\n"
   ]
  },
  {
   "cell_type": "code",
   "execution_count": 30,
   "id": "3fd0fd42-fe60-4c23-acf6-55a454db05f8",
   "metadata": {
    "scrolled": true
   },
   "outputs": [
    {
     "name": "stdout",
     "output_type": "stream",
     "text": [
      "Requirement already satisfied: numpy in c:\\users\\shrih\\anaconda3\\lib\\site-packages (1.26.4)\n",
      "Requirement already satisfied: pandas in c:\\users\\shrih\\anaconda3\\lib\\site-packages (2.2.2)\n",
      "Requirement already satisfied: matplotlib in c:\\users\\shrih\\anaconda3\\lib\\site-packages (3.9.2)\n",
      "Requirement already satisfied: seaborn in c:\\users\\shrih\\anaconda3\\lib\\site-packages (0.13.2)\n",
      "Requirement already satisfied: python-dateutil>=2.8.2 in c:\\users\\shrih\\anaconda3\\lib\\site-packages (from pandas) (2.9.0.post0)\n",
      "Requirement already satisfied: pytz>=2020.1 in c:\\users\\shrih\\anaconda3\\lib\\site-packages (from pandas) (2024.1)\n",
      "Requirement already satisfied: tzdata>=2022.7 in c:\\users\\shrih\\anaconda3\\lib\\site-packages (from pandas) (2023.3)\n",
      "Requirement already satisfied: contourpy>=1.0.1 in c:\\users\\shrih\\anaconda3\\lib\\site-packages (from matplotlib) (1.2.0)\n",
      "Requirement already satisfied: cycler>=0.10 in c:\\users\\shrih\\anaconda3\\lib\\site-packages (from matplotlib) (0.11.0)\n",
      "Requirement already satisfied: fonttools>=4.22.0 in c:\\users\\shrih\\anaconda3\\lib\\site-packages (from matplotlib) (4.51.0)\n",
      "Requirement already satisfied: kiwisolver>=1.3.1 in c:\\users\\shrih\\anaconda3\\lib\\site-packages (from matplotlib) (1.4.4)\n",
      "Requirement already satisfied: packaging>=20.0 in c:\\users\\shrih\\anaconda3\\lib\\site-packages (from matplotlib) (24.1)\n",
      "Requirement already satisfied: pillow>=8 in c:\\users\\shrih\\anaconda3\\lib\\site-packages (from matplotlib) (10.4.0)\n",
      "Requirement already satisfied: pyparsing>=2.3.1 in c:\\users\\shrih\\anaconda3\\lib\\site-packages (from matplotlib) (3.1.2)\n",
      "Requirement already satisfied: six>=1.5 in c:\\users\\shrih\\anaconda3\\lib\\site-packages (from python-dateutil>=2.8.2->pandas) (1.16.0)\n",
      "Note: you may need to restart the kernel to use updated packages.\n"
     ]
    }
   ],
   "source": [
    "pip install numpy pandas matplotlib seaborn\n"
   ]
  },
  {
   "cell_type": "markdown",
   "id": "1d1eca4e-e28b-4f7d-8806-86c1efec7cba",
   "metadata": {},
   "source": [
    "# 2. Data Loading\n",
    "\n",
    "In this section, we load the data from CSV files into numpy matrices. The data files are:\n",
    "1. `nhanes_adult_male_bmx_2020.csv` - contains body measurements of adult males.\n",
    "2. `nhanes_adult_female_bmx_2020.csv` - contains body measurements of adult females.\n",
    "\n",
    "Each dataset includes seven columns representing:\n",
    "1. Weight (kg)\n",
    "2. Standing Height (cm)\n",
    "3. Upper Arm Length (cm)\n",
    "4. Upper Leg Length (cm)\n",
    "5. Arm Circumference (cm)\n",
    "6. Hip Circumference (cm)\n",
    "7. Waist Circumference (cm)\n",
    "\n",
    "After loading, we preview the data to confirm successful loading and correctness.\n"
   ]
  },
  {
   "cell_type": "markdown",
   "id": "9f9421b1-b36a-4ee4-84fb-85bafbec0639",
   "metadata": {},
   "source": [
    "Download the Data\n",
    "Download the two CSV files (nhanes_adult_male_bmx_2020.csv and nhanes_adult_female_bmx_2020.csv) from the provided GitHub repository."
   ]
  },
  {
   "cell_type": "markdown",
   "id": "31392ef9-33fa-41e0-8815-aaa4b20a27b7",
   "metadata": {},
   "source": [
    "Read Data Using Numpy\n",
    "Load the data using numpy.genfromtxt or numpy.loadtxt:"
   ]
  },
  {
   "cell_type": "code",
   "execution_count": 28,
   "id": "ce82eb63-41a2-42cc-ad34-a62975946f01",
   "metadata": {},
   "outputs": [],
   "source": [
    "import numpy as np\n",
    "\n",
    "male = np.genfromtxt(r\"C:\\Users\\shrih\\OneDrive\\Documents\\Desktop\\nhanes_adult_male_bmx_2020.csv\", delimiter=',', skip_header=1)\n",
    "female = np.genfromtxt(r\"C:\\Users\\shrih\\OneDrive\\Documents\\Desktop\\nhanes_adult_female_bmx_2020.csv\" ,delimiter=',', skip_header=1)\n"
   ]
  },
  {
   "cell_type": "code",
   "execution_count": 32,
   "id": "d6220264-26ab-46f3-8de2-129bef083500",
   "metadata": {},
   "outputs": [],
   "source": [
    "import os\n",
    "os.chdir(r'C:\\Users\\shrih\\OneDrive\\Documents\\Desktop')  # Change to the directory\n",
    "import numpy as np\n",
    "male = np.genfromtxt('nhanes_adult_male_bmx_2020.csv', delimiter=',', skip_header=1)\n",
    "female = np.genfromtxt('nhanes_adult_female_bmx_2020.csv', delimiter=',', skip_header=1)\n",
    "male_weights = male[:, 0]\n",
    "female_weights = female[:, 0]"
   ]
  },
  {
   "cell_type": "markdown",
   "id": "0c1ef217-f905-4137-b6b7-71933163076e",
   "metadata": {},
   "source": [
    "Load the Datasets\n",
    "\n",
    "Use the following code to load the datasets. Run this cell before trying to access male or female:"
   ]
  },
  {
   "cell_type": "code",
   "execution_count": 25,
   "id": "7f95f564-69a0-4183-ac6a-37e160d8ba2b",
   "metadata": {},
   "outputs": [
    {
     "name": "stdout",
     "output_type": "stream",
     "text": [
      "Male Data Shape: (4082, 7)\n",
      "Female Data Shape: (4222, 7)\n"
     ]
    }
   ],
   "source": [
    "import numpy as np\n",
    "\n",
    "# Load datasets\n",
    "male = np.genfromtxt('nhanes_adult_male_bmx_2020.csv', delimiter=',', skip_header=1)\n",
    "female = np.genfromtxt('nhanes_adult_female_bmx_2020.csv', delimiter=',', skip_header=1)\n",
    "\n",
    "# Print confirmation\n",
    "print(\"Male Data Shape:\", male.shape)\n",
    "print(\"Female Data Shape:\", female.shape)\n"
   ]
  },
  {
   "cell_type": "markdown",
   "id": "f5a4ef2b-7979-4a03-8fb7-de78c35cfffe",
   "metadata": {},
   "source": [
    "Preview the Data\n",
    "Use print to display the first few rows of each matrix to confirm correct loading."
   ]
  },
  {
   "cell_type": "markdown",
   "id": "a77c4ee8-507e-4e2f-8ab3-b91b07237a1a",
   "metadata": {},
   "source": [
    "# 3. Data Visualization\n",
    "\n",
    "Here, we explore the distributions of male and female weights using histograms and box-and-whisker plots:\n",
    "1. **Histograms**: Visualize the frequency distribution of weights for males and females.\n",
    "2. **Boxplots**: Compare the central tendencies and dispersions of male and female weights.\n",
    "\n",
    "These visualizations will help us understand the spread, skewness, and outliers in the data.\n"
   ]
  },
  {
   "cell_type": "markdown",
   "id": "120823b0-9440-4bd9-ad7a-70fe4988f7bc",
   "metadata": {},
   "source": [
    "Plot Histograms of Weights"
   ]
  },
  {
   "cell_type": "markdown",
   "id": "cc9c5965-3213-48d5-ad28-c4672191d62c",
   "metadata": {},
   "source": [
    "1.Extract Weights\n",
    "Extract the first column from both datasets:"
   ]
  },
  {
   "cell_type": "markdown",
   "id": "2efb6202-893d-4803-b608-d5b27904b683",
   "metadata": {},
   "source": [
    "## **Preview the Data**\n",
    "\n",
    "In this section, we display the first few rows of each dataset to confirm that the data has been loaded correctly into Numpy matrices. This step ensures that the data is structured as expected and ready for analysis.\n"
   ]
  },
  {
   "cell_type": "markdown",
   "id": "0d56596b-e6dc-4e32-b05b-ecee9f4438f8",
   "metadata": {},
   "source": [
    "2.Plot Histograms\n",
    "Use matplotlib.pyplot to create two subplots for the histograms:"
   ]
  },
  {
   "cell_type": "code",
   "execution_count": 34,
   "id": "d831a037-5368-477e-b97a-69cb75d204e0",
   "metadata": {},
   "outputs": [
    {
     "data": {
      "image/png": "[encoded data removed]",
      "text/plain": [
       "<Figure size 800x600 with 2 Axes>"
      ]
     },
     "metadata": {},
     "output_type": "display_data"
    }
   ],
   "source": [
    "import matplotlib.pyplot as plt\n",
    "\n",
    "fig, axes = plt.subplots(2, 1, figsize=(8, 6))\n",
    "axes[0].hist(female_weights, bins=20, color='pink', alpha=0.7)\n",
    "axes[0].set_title('Female Weights')\n",
    "axes[1].hist(male_weights, bins=20, color='blue', alpha=0.7)\n",
    "axes[1].set_title('Male Weights')\n",
    "\n",
    "for ax in axes:\n",
    "    ax.set_xlim(40, 150)  # Adjust limits appropriately\n",
    "\n",
    "plt.tight_layout()\n",
    "plt.show()\n"
   ]
  },
  {
   "cell_type": "markdown",
   "id": "117dc014-c4ba-4202-8612-4f50e78544c2",
   "metadata": {},
   "source": [
    "Box-and-Whisker Plot for Weights"
   ]
  },
  {
   "cell_type": "raw",
   "id": "878374c5-e9e9-49d7-bab7-a0305889c59d",
   "metadata": {},
   "source": [
    "Plot Boxplots\n",
    "Use matplotlib.pyplot.boxplot:"
   ]
  },
  {
   "cell_type": "code",
   "execution_count": 40,
   "id": "f9e889f5-69d4-4dc8-ad29-f8c187d1accc",
   "metadata": {},
   "outputs": [
    {
     "data": {
      "image/png": "[encoded data removed]",
      "text/plain": [
       "<Figure size 640x480 with 1 Axes>"
      ]
     },
     "metadata": {},
     "output_type": "display_data"
    }
   ],
   "source": [
    "import matplotlib.pyplot as plt\n",
    "\n",
    "# Assuming female_weights and male_weights are already defined\n",
    "plt.boxplot([female_weights, male_weights], tick_labels=['Females', 'Males'], patch_artist=True)\n",
    "plt.title('Boxplot of Weights')\n",
    "plt.ylabel('Weight')\n",
    "plt.show()\n",
    "\n"
   ]
  },
  {
   "cell_type": "markdown",
   "id": "c20d6b10-52d1-4e06-9d40-afa82ab1522f",
   "metadata": {},
   "source": [
    "# 4. Statistical Analysis\n",
    "\n",
    "This section computes and compares basic numerical aggregates (mean, median, standard deviation, skewness, and kurtosis) for male and female weights. \n",
    "The goal is to understand:\n",
    "1. Measures of location (mean, median).\n",
    "2. Measures of dispersion (standard deviation).\n",
    "3. Shape of the distributions (skewness and kurtosis).\n",
    "\n",
    "We will describe and compare the two distributions based on these statistical measures.\n"
   ]
  },
  {
   "cell_type": "raw",
   "id": "5578abcc-888c-4833-9f3f-8be9d6de8271",
   "metadata": {},
   "source": [
    "1.Calculate Descriptive Statistics\n",
    "Use numpy for measures like mean, median, standard deviation, skewness, and kurtosis:"
   ]
  },
  {
   "cell_type": "code",
   "execution_count": 43,
   "id": "48594f04-dec1-4fe8-9e1a-7ba6e8ff3f67",
   "metadata": {},
   "outputs": [
    {
     "name": "stdout",
     "output_type": "stream",
     "text": [
      "Female Weight Stats: {'mean': nan, 'median': nan, 'std_dev': nan, 'skewness': nan, 'kurtosis': nan}\n",
      "Male Weight Stats: {'mean': nan, 'median': nan, 'std_dev': nan, 'skewness': nan, 'kurtosis': nan}\n"
     ]
    }
   ],
   "source": [
    "from scipy.stats import skew, kurtosis\n",
    "\n",
    "def summary_stats(data):\n",
    "    return {\n",
    "        'mean': np.mean(data),\n",
    "        'median': np.median(data),\n",
    "        'std_dev': np.std(data),\n",
    "        'skewness': skew(data),\n",
    "        'kurtosis': kurtosis(data)\n",
    "    }\n",
    "\n",
    "female_stats = summary_stats(female_weights)\n",
    "male_stats = summary_stats(male_weights)\n",
    "\n",
    "print('Female Weight Stats:', female_stats)\n",
    "print('Male Weight Stats:', male_stats)\n"
   ]
  },
  {
   "cell_type": "markdown",
   "id": "5da9f994-9b6d-41e4-a4a0-87bb21939f3a",
   "metadata": {},
   "source": [
    "# 5. Derived Metrics\n",
    "\n",
    "In this section, we calculate additional metrics to extend the dataset:\n",
    "1. **Body Mass Index (BMI)**: Added as a new column for the female dataset. BMI is computed as:\n",
    "   \\[\n",
    "   \\text{BMI} = \\frac{\\text{Weight (kg)}}{\\text{Height (m)}^2}\n",
    "   \\]\n",
    "2. **Standardization**: The female dataset is standardized (z-scores), allowing for better comparisons across variables.\n",
    "\n",
    "We will also derive:\n",
    "- Waist-to-Height Ratio\n",
    "- Waist-to-Hip Ratio\n",
    "These are added as new columns to both male and female datasets for further analysis.\n"
   ]
  },
  {
   "cell_type": "raw",
   "id": "494dcd38-3a05-44cb-9a61-c1a1bf63176f",
   "metadata": {},
   "source": [
    "Add BMI to Female Data"
   ]
  },
  {
   "cell_type": "markdown",
   "id": "08572d30-62e4-4e4b-97f4-464759edd40e",
   "metadata": {},
   "source": [
    "1. Compute BMI\n",
    "BMI = Weight (kg) / (Height (m))²:"
   ]
  },
  {
   "cell_type": "code",
   "execution_count": 67,
   "id": "60cc748b-9d64-48d7-81d6-0a9f245646ec",
   "metadata": {},
   "outputs": [],
   "source": [
    "heights_m = female[:, 1] / 100  # Convert cm to meters\n",
    "bmi = female[:, 0] / (heights_m ** 2)\n",
    "female = np.column_stack((female, bmi))\n"
   ]
  },
  {
   "cell_type": "markdown",
   "id": "18dd7ea9-4b92-4fc3-9358-3f99f1389126",
   "metadata": {},
   "source": [
    "Standardize Female Data"
   ]
  },
  {
   "cell_type": "raw",
   "id": "7223215a-0dfe-4b06-8bcd-469937eef6fe",
   "metadata": {},
   "source": [
    "Compute Z-Scores\n",
    "Subtract mean and divide by standard deviation for each column:"
   ]
  },
  {
   "cell_type": "code",
   "execution_count": 65,
   "id": "740f4ef5-7e62-440a-8819-cec599b7683e",
   "metadata": {},
   "outputs": [],
   "source": [
    "zfemale = (female - female.mean(axis=0)) / female.std(axis=0)\n"
   ]
  },
  {
   "cell_type": "code",
   "execution_count": null,
   "id": "cc619d0c-ab10-47c6-9170-2f3ee8c32fae",
   "metadata": {},
   "outputs": [],
   "source": []
  },
  {
   "cell_type": "markdown",
   "id": "b057a936-29f0-4b20-8535-6694dc6f7f8d",
   "metadata": {},
   "source": [
    "# 6. Advanced Visualizations\n",
    "\n",
    "In this section, we use advanced visualizations to explore relationships between variables:\n",
    "1. **Scatterplot Matrix**: Visualize pairwise relationships between standardized variables (weight, height, waist, hip, and BMI) for females.\n",
    "2. **Boxplots for Ratios**: Compare the waist-to-height and waist-to-hip ratios for males and females.\n",
    "\n",
    "These visualizations aim to identify patterns, correlations, and potential gender-based differences in body metrics.\n"
   ]
  },
  {
   "cell_type": "raw",
   "id": "9c0a8cd8-22ec-43d4-a8b5-e1c97c33fb94",
   "metadata": {},
   "source": [
    "1.Select Relevant Columns\n",
    "Use standardised columns for weight, height, waist, hip, and BMI:"
   ]
  },
  {
   "cell_type": "code",
   "execution_count": 61,
   "id": "cf1ae0bf-fed1-4a2d-98a3-9bb0ea5f16c2",
   "metadata": {},
   "outputs": [
    {
     "data": {
      "image/png": "[encoded data removed]",
      "text/plain": [
       "<Figure size 1250x1250 with 30 Axes>"
      ]
     },
     "metadata": {},
     "output_type": "display_data"
    }
   ],
   "source": [
    "import pandas as pd\n",
    "import seaborn as sns\n",
    "\n",
    "columns = ['Weight', 'Height', 'Waist', 'Hip', 'BMI']\n",
    "df = pd.DataFrame(zfemale[:, [0, 1, 6, 5, 7]], columns=columns)\n",
    "sns.pairplot(df)\n",
    "plt.show()\n"
   ]
  },
  {
   "cell_type": "markdown",
   "id": "2f01c9ce-e59c-4540-9397-e7f57f8456bc",
   "metadata": {},
   "source": [
    "# 7. Correlation Analysis\n",
    "\n",
    "We compute Pearson's and Spearman's correlation coefficients to quantify relationships between variables. \n",
    "The focus is on:\n",
    "1. Assessing linear relationships (Pearson).\n",
    "2. Identifying monotonic relationships (Spearman).\n",
    "\n",
    "The results are interpreted to understand how strongly variables like weight, height, and BMI are related to each other.\n"
   ]
  },
  {
   "cell_type": "raw",
   "id": "ed4ec06a-f8b9-4392-bcf6-faa623f5cd69",
   "metadata": {},
   "source": [
    "1.Compute Correlations\n",
    "Use Pearson’s and Spearman’s coefficients:"
   ]
  },
  {
   "cell_type": "code",
   "execution_count": 69,
   "id": "3b2de81a-6838-4719-9bc4-9e4eb7505672",
   "metadata": {},
   "outputs": [
    {
     "name": "stdout",
     "output_type": "stream",
     "text": [
      "Pearson Correlation:\n",
      "         Weight  Height  Waist  Hip  BMI\n",
      "Weight     NaN     NaN    NaN  NaN  NaN\n",
      "Height     NaN     NaN    NaN  NaN  NaN\n",
      "Waist      NaN     NaN    NaN  NaN  NaN\n",
      "Hip        NaN     NaN    NaN  NaN  NaN\n",
      "BMI        NaN     NaN    NaN  NaN  NaN\n",
      "Spearman Correlation:\n",
      "         Weight  Height  Waist  Hip  BMI\n",
      "Weight     NaN     NaN    NaN  NaN  NaN\n",
      "Height     NaN     NaN    NaN  NaN  NaN\n",
      "Waist      NaN     NaN    NaN  NaN  NaN\n",
      "Hip        NaN     NaN    NaN  NaN  NaN\n",
      "BMI        NaN     NaN    NaN  NaN  NaN\n"
     ]
    }
   ],
   "source": [
    "pearson_corr = df.corr(method='pearson')\n",
    "spearman_corr = df.corr(method='spearman')\n",
    "print('Pearson Correlation:\\n', pearson_corr)\n",
    "print('Spearman Correlation:\\n', spearman_corr)\n"
   ]
  },
  {
   "cell_type": "markdown",
   "id": "d31d1851-f816-4137-8388-eceb6101c1c0",
   "metadata": {},
   "source": [
    "# 8. BMI Analysis\n",
    "\n",
    "This section identifies the individuals with the lowest and highest BMI values from the female dataset. \n",
    "The standardized measurements of these individuals are analyzed and compared to understand the variability in body metrics.\n",
    "\n",
    "We also interpret how extreme BMI values relate to other measurements.\n"
   ]
  },
  {
   "cell_type": "raw",
   "id": "31891ad1-e000-42d8-b7b5-9d5483470485",
   "metadata": {},
   "source": [
    "1.Identify Individuals\n",
    "Find the lowest and highest BMI values:"
   ]
  },
  {
   "cell_type": "code",
   "execution_count": 73,
   "id": "91747f48-a89b-4cd6-bb13-8797bc6d20dc",
   "metadata": {},
   "outputs": [
    {
     "name": "stdout",
     "output_type": "stream",
     "text": [
      "Lowest BMI:\n",
      " [[nan nan nan nan nan nan nan nan nan nan]\n",
      " [nan nan nan nan nan nan nan nan nan nan]\n",
      " [nan nan nan nan nan nan nan nan nan nan]\n",
      " [nan nan nan nan nan nan nan nan nan nan]\n",
      " [nan nan nan nan nan nan nan nan nan nan]]\n",
      "Highest BMI:\n",
      " [[nan nan nan nan nan nan nan nan nan nan]\n",
      " [nan nan nan nan nan nan nan nan nan nan]\n",
      " [nan nan nan nan nan nan nan nan nan nan]\n",
      " [nan nan nan nan nan nan nan nan nan nan]\n",
      " [nan nan nan nan nan nan nan nan nan nan]]\n"
     ]
    }
   ],
   "source": [
    "indices = np.argsort(female[:, 7])\n",
    "lowest_bmi = zfemale[indices[:5]]\n",
    "highest_bmi = zfemale[indices[-5:]]\n",
    "print('Lowest BMI:\\n', lowest_bmi)\n",
    "print('Highest BMI:\\n', highest_bmi)\n"
   ]
  },
  {
   "cell_type": "markdown",
   "id": "02dfcfe6-bb87-4dde-8bd1-fdcd32384d6c",
   "metadata": {},
   "source": [
    "# 9. Discussion\n",
    "\n",
    "This section evaluates the advantages and limitations of the analyzed metrics:\n",
    "1. **BMI**: Easy to compute but limited in assessing fat distribution.\n",
    "2. **Waist-to-Height Ratio**: A better indicator of health risks but requires multiple measurements.\n",
    "3. **Waist-to-Hip Ratio**: Useful for assessing fat distribution but less widely used in practice.\n",
    "\n",
    "We discuss the implications of our findings and potential use cases for each metric.\n"
   ]
  },
  {
   "cell_type": "markdown",
   "id": "55727966-aedc-434a-9db1-5371c11676c5",
   "metadata": {},
   "source": [
    "Add Ratios"
   ]
  },
  {
   "cell_type": "raw",
   "id": "f2ab05fb-a63b-4fc5-90fb-823c99531a16",
   "metadata": {},
   "source": [
    "1.Compute Ratios\n",
    "Add waist-to-height and waist-to-hip ratios:"
   ]
  },
  {
   "cell_type": "code",
   "execution_count": 88,
   "id": "2ee9743b-0d90-4798-a935-cdfe58f5ab6a",
   "metadata": {},
   "outputs": [
    {
     "data": {
      "image/png": "[encoded data removed]",
      "text/plain": [
       "<Figure size 640x480 with 1 Axes>"
      ]
     },
     "metadata": {},
     "output_type": "display_data"
    }
   ],
   "source": [
    "import matplotlib\n",
    "import matplotlib.pyplot as plt\n",
    "import numpy as np\n",
    "male = np.column_stack((male, male[:, 6] / male[:, 1], male[:, 6] / male[:, 5]))\n",
    "female = np.column_stack((female, female[:, 6] / female[:, 1], female[:, 6] / female[:, 5]))\n",
    "tick_labels_param = 'tick_labels' if matplotlib.__version__ >= '3.9' else 'labels'\n",
    "\n",
    "plt.boxplot(\n",
    "    [female[:, -2], male[:, -2], female[:, -1], male[:, -1]], \n",
    "    **{tick_labels_param: ['Female W/Ht', 'Male W/Ht', 'Female W/Hip', 'Male W/Hip']}, \n",
    "    patch_artist=True\n",
    ")\n",
    "plt.title('Waist-to-Height and Waist-to-Hip Ratios')\n",
    "plt.ylabel('Ratio')\n",
    "plt.show()\n"
   ]
  },
  {
   "cell_type": "markdown",
   "id": "d42bf90a-30d5-4161-b562-55a5785cd6c2",
   "metadata": {},
   "source": [
    "# 10. Conclusion\n",
    "\n",
    "In this project, we analyzed body measurements of adult males and females, focusing on weight distributions, derived metrics, and relationships between variables. Key insights include:\n",
    "- Weight distributions differ significantly across genders, with males generally having higher average weights.\n",
    "- BMI and waist-based ratios offer valuable health indicators but have limitations.\n",
    "- Correlation analysis reveals strong relationships between certain variables (e.g., weight and BMI).\n",
    "\n",
    "This analysis provides a foundation for understanding and comparing body measurements, with potential applications in health and nutrition studies.\n"
   ]
  },
  {
   "cell_type": "markdown",
   "id": "546612d2-a910-4c57-bcee-58d8daee7ba3",
   "metadata": {},
   "source": [
    "# 11. References\n",
    "\n",
    "- National Health and Nutrition Examination Survey (NHANES) dataset.\n",
    "- Official documentation for numpy, matplotlib, pandas, and seaborn libraries.\n",
    "- Research articles on BMI, waist-to-height, and waist-to-hip ratios.\n"
   ]
  },
  {
   "cell_type": "code",
   "execution_count": null,
   "id": "4b9cf845-73e0-4cea-b671-12fc6ba0a5e4",
   "metadata": {},
   "outputs": [],
   "source": []
  },
  {
   "cell_type": "code",
   "execution_count": null,
   "id": "80725c27-05ed-4d8a-8aa1-2a7c318df7df",
   "metadata": {},
   "outputs": [],
   "source": []
  }
 ],
 "metadata": {
  "kernelspec": {
   "display_name": "Python [conda env:base] *",
   "language": "python",
   "name": "conda-base-py"
  },
  "language_info": {
   "codemirror_mode": {
    "name": "ipython",
    "version": 3
   },
   "file_extension": ".py",
   "mimetype": "text/x-python",
   "name": "python",
   "nbconvert_exporter": "python",
   "pygments_lexer": "ipython3",
   "version": "3.12.7"
  }
 },
 "nbformat": 4,
 "nbformat_minor": 5
}
